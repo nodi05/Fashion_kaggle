{
 "cells": [
  {
   "cell_type": "code",
   "execution_count": 17,
   "id": "336772a5-cd0b-4ccd-ad3e-03c56f87d79a",
   "metadata": {},
   "outputs": [],
   "source": [
    "import pandas as pd\n",
    "import numpy as np\n",
    "import matplotlib.pyplot as plt\n",
    "import seaborn as sns\n",
    "import matplotlib.ticker as mtick\n",
    "\n",
    "%matplotlib inline"
   ]
  },
  {
   "cell_type": "code",
   "execution_count": 14,
   "id": "883664be-9d87-4e27-8464-f43d429faadb",
   "metadata": {},
   "outputs": [
    {
     "data": {
      "text/html": [
       "<div>\n",
       "<style scoped>\n",
       "    .dataframe tbody tr th:only-of-type {\n",
       "        vertical-align: middle;\n",
       "    }\n",
       "\n",
       "    .dataframe tbody tr th {\n",
       "        vertical-align: top;\n",
       "    }\n",
       "\n",
       "    .dataframe thead th {\n",
       "        text-align: right;\n",
       "    }\n",
       "</style>\n",
       "<table border=\"1\" class=\"dataframe\">\n",
       "  <thead>\n",
       "    <tr style=\"text-align: right;\">\n",
       "      <th></th>\n",
       "      <th>User ID</th>\n",
       "      <th>Product ID</th>\n",
       "      <th>Product Name</th>\n",
       "      <th>Brand</th>\n",
       "      <th>Category</th>\n",
       "      <th>Price</th>\n",
       "      <th>Rating</th>\n",
       "      <th>Color</th>\n",
       "      <th>Size</th>\n",
       "    </tr>\n",
       "  </thead>\n",
       "  <tbody>\n",
       "    <tr>\n",
       "      <th>0</th>\n",
       "      <td>19</td>\n",
       "      <td>1</td>\n",
       "      <td>Dress</td>\n",
       "      <td>Adidas</td>\n",
       "      <td>Men's Fashion</td>\n",
       "      <td>40</td>\n",
       "      <td>1.043159</td>\n",
       "      <td>Black</td>\n",
       "      <td>XL</td>\n",
       "    </tr>\n",
       "    <tr>\n",
       "      <th>1</th>\n",
       "      <td>97</td>\n",
       "      <td>2</td>\n",
       "      <td>Shoes</td>\n",
       "      <td>H&amp;M</td>\n",
       "      <td>Women's Fashion</td>\n",
       "      <td>82</td>\n",
       "      <td>4.026416</td>\n",
       "      <td>Black</td>\n",
       "      <td>L</td>\n",
       "    </tr>\n",
       "    <tr>\n",
       "      <th>2</th>\n",
       "      <td>25</td>\n",
       "      <td>3</td>\n",
       "      <td>Dress</td>\n",
       "      <td>Adidas</td>\n",
       "      <td>Women's Fashion</td>\n",
       "      <td>44</td>\n",
       "      <td>3.337938</td>\n",
       "      <td>Yellow</td>\n",
       "      <td>XL</td>\n",
       "    </tr>\n",
       "    <tr>\n",
       "      <th>3</th>\n",
       "      <td>57</td>\n",
       "      <td>4</td>\n",
       "      <td>Shoes</td>\n",
       "      <td>Zara</td>\n",
       "      <td>Men's Fashion</td>\n",
       "      <td>23</td>\n",
       "      <td>1.049523</td>\n",
       "      <td>White</td>\n",
       "      <td>S</td>\n",
       "    </tr>\n",
       "    <tr>\n",
       "      <th>4</th>\n",
       "      <td>79</td>\n",
       "      <td>5</td>\n",
       "      <td>T-shirt</td>\n",
       "      <td>Adidas</td>\n",
       "      <td>Men's Fashion</td>\n",
       "      <td>79</td>\n",
       "      <td>4.302773</td>\n",
       "      <td>Black</td>\n",
       "      <td>M</td>\n",
       "    </tr>\n",
       "  </tbody>\n",
       "</table>\n",
       "</div>"
      ],
      "text/plain": [
       "   User ID  Product ID Product Name   Brand         Category  Price    Rating  \\\n",
       "0       19           1        Dress  Adidas    Men's Fashion     40  1.043159   \n",
       "1       97           2        Shoes     H&M  Women's Fashion     82  4.026416   \n",
       "2       25           3        Dress  Adidas  Women's Fashion     44  3.337938   \n",
       "3       57           4        Shoes    Zara    Men's Fashion     23  1.049523   \n",
       "4       79           5      T-shirt  Adidas    Men's Fashion     79  4.302773   \n",
       "\n",
       "    Color Size  \n",
       "0   Black   XL  \n",
       "1   Black    L  \n",
       "2  Yellow   XL  \n",
       "3   White    S  \n",
       "4   Black    M  "
      ]
     },
     "execution_count": 14,
     "metadata": {},
     "output_type": "execute_result"
    }
   ],
   "source": [
    "df = pd.read_csv(\"fashion_products.csv\")\n",
    "df.head()"
   ]
  },
  {
   "cell_type": "code",
   "execution_count": 3,
   "id": "bfb11cc5-ba8c-41d8-81dc-8470a7aa7ec4",
   "metadata": {},
   "outputs": [
    {
     "name": "stdout",
     "output_type": "stream",
     "text": [
      "     User ID  Product ID Product Name   Brand         Category  Price  \\\n",
      "0         19           1        Dress  Adidas    Men's Fashion     40   \n",
      "1         97           2        Shoes     H&M  Women's Fashion     82   \n",
      "2         25           3        Dress  Adidas  Women's Fashion     44   \n",
      "3         57           4        Shoes    Zara    Men's Fashion     23   \n",
      "4         79           5      T-shirt  Adidas    Men's Fashion     79   \n",
      "..       ...         ...          ...     ...              ...    ...   \n",
      "995       20         996        Shoes    Zara  Women's Fashion     55   \n",
      "996       42         997      Sweater    Nike    Kids' Fashion     13   \n",
      "997        9         998      Sweater    Zara    Men's Fashion     47   \n",
      "998        8         999      T-shirt    Zara  Women's Fashion     68   \n",
      "999       91        1000        Shoes  Adidas  Women's Fashion     79   \n",
      "\n",
      "       Rating   Color Size  \n",
      "0    1.043159   Black   XL  \n",
      "1    4.026416   Black    L  \n",
      "2    3.337938  Yellow   XL  \n",
      "3    1.049523   White    S  \n",
      "4    4.302773   Black    M  \n",
      "..        ...     ...  ...  \n",
      "995  1.620081   Black    M  \n",
      "996  1.544464   Green    L  \n",
      "997  3.961913   White    L  \n",
      "998  3.089722    Blue    S  \n",
      "999  3.093553   White    L  \n",
      "\n",
      "[1000 rows x 9 columns]\n"
     ]
    }
   ],
   "source": [
    "print(df)"
   ]
  },
  {
   "cell_type": "code",
   "execution_count": 18,
   "id": "e82f0d4e-bb04-4a95-afe0-beb79467fd99",
   "metadata": {},
   "outputs": [
    {
     "name": "stdout",
     "output_type": "stream",
     "text": [
      "<class 'pandas.core.frame.DataFrame'>\n",
      "RangeIndex: 1000 entries, 0 to 999\n",
      "Data columns (total 9 columns):\n",
      " #   Column        Non-Null Count  Dtype  \n",
      "---  ------        --------------  -----  \n",
      " 0   User ID       1000 non-null   int64  \n",
      " 1   Product ID    1000 non-null   int64  \n",
      " 2   Product Name  1000 non-null   object \n",
      " 3   Brand         1000 non-null   object \n",
      " 4   Category      1000 non-null   object \n",
      " 5   Price         1000 non-null   int64  \n",
      " 6   Rating        1000 non-null   float64\n",
      " 7   Color         1000 non-null   object \n",
      " 8   Size          1000 non-null   object \n",
      "dtypes: float64(1), int64(3), object(5)\n",
      "memory usage: 70.4+ KB\n"
     ]
    }
   ],
   "source": [
    "df.info()"
   ]
  },
  {
   "cell_type": "code",
   "execution_count": 5,
   "id": "270bb6e3-c9ad-4462-a8e0-f49d4d1d409c",
   "metadata": {},
   "outputs": [
    {
     "data": {
      "text/plain": [
       "np.False_"
      ]
     },
     "execution_count": 5,
     "metadata": {},
     "output_type": "execute_result"
    }
   ],
   "source": [
    "df.duplicated().any()"
   ]
  },
  {
   "cell_type": "code",
   "execution_count": 9,
   "id": "8531227f-68ef-402a-90a6-ed5f66bd2d87",
   "metadata": {},
   "outputs": [
    {
     "data": {
      "text/plain": [
       "Index(['User ID', 'Product ID', 'Product Name', 'Brand', 'Category', 'Price',\n",
       "       'Rating', 'Color', 'Size'],\n",
       "      dtype='object')"
      ]
     },
     "execution_count": 9,
     "metadata": {},
     "output_type": "execute_result"
    }
   ],
   "source": [
    "df.columns"
   ]
  },
  {
   "cell_type": "code",
   "execution_count": 12,
   "id": "e80e5d38-ad9b-4594-bbfd-2c9d10a48815",
   "metadata": {},
   "outputs": [],
   "source": [
    "df = df.drop_duplicates()\n",
    "df.drop = ['user id', 'product id', 'product name', 'brand', 'category', 'price', 'rating', 'color', 'size']"
   ]
  },
  {
   "cell_type": "code",
   "execution_count": 13,
   "id": "484b0196-f740-4ad8-8b3c-163f1b1f3801",
   "metadata": {},
   "outputs": [
    {
     "data": {
      "text/html": [
       "<div>\n",
       "<style scoped>\n",
       "    .dataframe tbody tr th:only-of-type {\n",
       "        vertical-align: middle;\n",
       "    }\n",
       "\n",
       "    .dataframe tbody tr th {\n",
       "        vertical-align: top;\n",
       "    }\n",
       "\n",
       "    .dataframe thead th {\n",
       "        text-align: right;\n",
       "    }\n",
       "</style>\n",
       "<table border=\"1\" class=\"dataframe\">\n",
       "  <thead>\n",
       "    <tr style=\"text-align: right;\">\n",
       "      <th></th>\n",
       "      <th>null_val</th>\n",
       "      <th>percent_</th>\n",
       "    </tr>\n",
       "  </thead>\n",
       "  <tbody>\n",
       "    <tr>\n",
       "      <th>User ID</th>\n",
       "      <td>0</td>\n",
       "      <td>0.0</td>\n",
       "    </tr>\n",
       "    <tr>\n",
       "      <th>Product ID</th>\n",
       "      <td>0</td>\n",
       "      <td>0.0</td>\n",
       "    </tr>\n",
       "    <tr>\n",
       "      <th>Product Name</th>\n",
       "      <td>0</td>\n",
       "      <td>0.0</td>\n",
       "    </tr>\n",
       "    <tr>\n",
       "      <th>Brand</th>\n",
       "      <td>0</td>\n",
       "      <td>0.0</td>\n",
       "    </tr>\n",
       "    <tr>\n",
       "      <th>Category</th>\n",
       "      <td>0</td>\n",
       "      <td>0.0</td>\n",
       "    </tr>\n",
       "    <tr>\n",
       "      <th>Price</th>\n",
       "      <td>0</td>\n",
       "      <td>0.0</td>\n",
       "    </tr>\n",
       "    <tr>\n",
       "      <th>Rating</th>\n",
       "      <td>0</td>\n",
       "      <td>0.0</td>\n",
       "    </tr>\n",
       "    <tr>\n",
       "      <th>Color</th>\n",
       "      <td>0</td>\n",
       "      <td>0.0</td>\n",
       "    </tr>\n",
       "    <tr>\n",
       "      <th>Size</th>\n",
       "      <td>0</td>\n",
       "      <td>0.0</td>\n",
       "    </tr>\n",
       "  </tbody>\n",
       "</table>\n",
       "</div>"
      ],
      "text/plain": [
       "              null_val  percent_\n",
       "User ID              0       0.0\n",
       "Product ID           0       0.0\n",
       "Product Name         0       0.0\n",
       "Brand                0       0.0\n",
       "Category             0       0.0\n",
       "Price                0       0.0\n",
       "Rating               0       0.0\n",
       "Color                0       0.0\n",
       "Size                 0       0.0"
      ]
     },
     "execution_count": 13,
     "metadata": {},
     "output_type": "execute_result"
    }
   ],
   "source": [
    "null_val = pd.DataFrame(df.isnull().sum())\n",
    "null_val.columns = ['null_val']\n",
    "null_val['percent_'] = round(null_val['null_val'] / len(df.index), 2) * 100\n",
    "null_val.sort_values('percent_', ascending = False)[:10]"
   ]
  },
  {
   "cell_type": "code",
   "execution_count": 15,
   "id": "8d423e91-0143-40e4-a10c-69cc179e9448",
   "metadata": {},
   "outputs": [
    {
     "data": {
      "text/plain": [
       "1000"
      ]
     },
     "execution_count": 15,
     "metadata": {},
     "output_type": "execute_result"
    }
   ],
   "source": [
    "len(df.index)"
   ]
  },
  {
   "cell_type": "code",
   "execution_count": 31,
   "id": "7d8be07e-6a60-4af9-bf2a-bc61413c6f60",
   "metadata": {},
   "outputs": [],
   "source": [
    "rating_counts = df['Rating'].value_counts()\n",
    "max_count = rating_counts.max()\n",
    "most_frequent_rating = rating_counts.idxmax()"
   ]
  },
  {
   "cell_type": "code",
   "execution_count": 34,
   "id": "fd7d846e-37e4-487e-8b69-511471fcc7e6",
   "metadata": {},
   "outputs": [
    {
     "name": "stdout",
     "output_type": "stream",
     "text": [
      "          Category  Product Count  Average Rating\n",
      "0    Kids' Fashion            351        3.034457\n",
      "1    Men's Fashion            322        2.941697\n",
      "2  Women's Fashion            327        2.999432\n"
     ]
    }
   ],
   "source": [
    "grouped = df.groupby('Category').agg({\n",
    "    'Product ID': 'count',  # Menghitung jumlah produk\n",
    "    'Rating': 'mean'        # Menghitung rata-rata rating\n",
    "}).reset_index()\n",
    "# Mengelompokkan data berdasarkan kategori (gender)\n",
    "grouped = df.groupby('Category').agg({\n",
    "    'Product ID': 'count',  # Menghitung jumlah produk\n",
    "    'Rating': 'mean'        # Menghitung rata-rata rating\n",
    "}).reset_index()\n",
    "\n",
    "# Mengganti nama kolom untuk lebih jelas\n",
    "grouped.columns = ['Category', 'Product Count', 'Average Rating']\n",
    "\n",
    "# Menampilkan hasil\n",
    "print(grouped)"
   ]
  },
  {
   "cell_type": "code",
   "execution_count": 35,
   "id": "2e87a1bb-f5c8-4842-9767-0238d3211dcc",
   "metadata": {},
   "outputs": [
    {
     "name": "stdout",
     "output_type": "stream",
     "text": [
      "          Category  Average Rating\n",
      "0    Kids' Fashion        3.034457\n",
      "1    Men's Fashion        2.941697\n",
      "2  Women's Fashion        2.999432\n",
      "Kategori dengan rating tertinggi: Kids' Fashion dengan rating rata-rata: 3.034456961956385\n"
     ]
    },
    {
     "name": "stderr",
     "output_type": "stream",
     "text": [
      "C:\\Users\\USER\\AppData\\Local\\Temp\\ipykernel_4784\\3739702224.py:18: FutureWarning: \n",
      "\n",
      "Passing `palette` without assigning `hue` is deprecated and will be removed in v0.14.0. Assign the `x` variable to `hue` and set `legend=False` for the same effect.\n",
      "\n",
      "  sns.barplot(x='Category', y='Average Rating', data=grouped, palette='viridis')\n"
     ]
    },
    {
     "data": {
      "image/png": "[encoded data removed]",
      "text/plain": [
       "<Figure size 1000x600 with 1 Axes>"
      ]
     },
     "metadata": {},
     "output_type": "display_data"
    }
   ],
   "source": [
    "# Mengelompokkan data berdasarkan kategori (gender) dan menghitung rata-rata rating\n",
    "grouped = df.groupby('Category').agg({\n",
    "    'Rating': 'mean'        # Menghitung rata-rata rating\n",
    "}).reset_index()\n",
    "\n",
    "# Mengganti nama kolom untuk lebih jelas\n",
    "grouped.columns = ['Category', 'Average Rating']\n",
    "\n",
    "# Menemukan kategori dengan rating tertinggi\n",
    "highest_rating = grouped.loc[grouped['Average Rating'].idxmax()]\n",
    "\n",
    "# Menampilkan hasil\n",
    "print(grouped)\n",
    "print(f\"Kategori dengan rating tertinggi: {highest_rating['Category']} dengan rating rata-rata: {highest_rating['Average Rating']}\")\n",
    "\n",
    "# Membuat Bar Plot menggunakan Seaborn\n",
    "plt.figure(figsize=(10, 6))\n",
    "sns.barplot(x='Category', y='Average Rating', data=grouped, palette='viridis')\n",
    "plt.title('Average Rating by Category')\n",
    "plt.xlabel('Category')\n",
    "plt.ylabel('Average Rating')\n",
    "plt.show()"
   ]
  },
  {
   "cell_type": "code",
   "execution_count": 36,
   "id": "4282f010-6117-46a4-889e-1536ebfa17a2",
   "metadata": {},
   "outputs": [
    {
     "data": {
      "image/png": "[encoded data removed]",
      "text/plain": [
       "<Figure size 800x800 with 1 Axes>"
      ]
     },
     "metadata": {},
     "output_type": "display_data"
    }
   ],
   "source": [
    "# Membuat Pie Chart menggunakan Matplotlib\n",
    "plt.figure(figsize=(8, 8))\n",
    "plt.pie(grouped['Average Rating'], labels=grouped['Category'], autopct='%1.1f%%', startangle=140, colors=['blue', 'green', 'red'])\n",
    "plt.axis('equal')  # Equal aspect ratio ensures that pie is drawn as a circle.\n",
    "plt.title('Average Rating by Category')\n",
    "plt.show()"
   ]
  },
  {
   "cell_type": "code",
   "execution_count": null,
   "id": "f27fdedd-25ce-48c0-92b6-13471cb3472b",
   "metadata": {},
   "outputs": [],
   "source": []
  }
 ],
 "metadata": {
  "kernelspec": {
   "display_name": "Python 3 (ipykernel)",
   "language": "python",
   "name": "python3"
  },
  "language_info": {
   "codemirror_mode": {
    "name": "ipython",
    "version": 3
   },
   "file_extension": ".py",
   "mimetype": "text/x-python",
   "name": "python",
   "nbconvert_exporter": "python",
   "pygments_lexer": "ipython3",
   "version": "3.11.1"
  }
 },
 "nbformat": 4,
 "nbformat_minor": 5
}
